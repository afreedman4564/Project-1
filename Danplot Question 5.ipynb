{
 "cells": [
  {
   "cell_type": "code",
   "execution_count": 2,
   "id": "dc5bbcf5",
   "metadata": {
    "collapsed": true
   },
   "outputs": [],
   "source": [
    "import csv\n",
    "import pandas as pd\n",
    "import matplotlib.pyplot as plt\n",
    "import numpy as np"
   ]
  },
  {
   "cell_type": "code",
   "execution_count": 6,
   "id": "4e17f39f",
   "metadata": {
    "collapsed": false
   },
   "outputs": [
    {
     "data": {
      "text/html": [
       "<div>\n",
       "<style scoped>\n",
       "    .dataframe tbody tr th:only-of-type {\n",
       "        vertical-align: middle;\n",
       "    }\n",
       "\n",
       "    .dataframe tbody tr th {\n",
       "        vertical-align: top;\n",
       "    }\n",
       "\n",
       "    .dataframe thead th {\n",
       "        text-align: right;\n",
       "    }\n",
       "</style>\n",
       "<table border=\"1\" class=\"dataframe\">\n",
       "  <thead>\n",
       "    <tr style=\"text-align: right;\">\n",
       "      <th></th>\n",
       "      <th>Name</th>\n",
       "      <th>Cost</th>\n",
       "      <th>Protein (g)</th>\n",
       "      <th>Calories</th>\n",
       "      <th>Fat (g)</th>\n",
       "      <th>Servings</th>\n",
       "      <th>Preparation Time (m)</th>\n",
       "      <th>Health Score</th>\n",
       "      <th>Cuisine</th>\n",
       "      <th>Gluten Free</th>\n",
       "      <th>Vegetarian</th>\n",
       "      <th>Dairy Free</th>\n",
       "      <th>Sustainable</th>\n",
       "      <th>Cheap</th>\n",
       "    </tr>\n",
       "  </thead>\n",
       "  <tbody>\n",
       "    <tr>\n",
       "      <th>0</th>\n",
       "      <td>Butternut Squash Gnocchi With Whiskey Cream Sauce</td>\n",
       "      <td>3.72</td>\n",
       "      <td>14</td>\n",
       "      <td>527</td>\n",
       "      <td>23</td>\n",
       "      <td>4</td>\n",
       "      <td>45</td>\n",
       "      <td>11.0</td>\n",
       "      <td>['Mediterranean', 'Italian', 'European']</td>\n",
       "      <td>False</td>\n",
       "      <td>False</td>\n",
       "      <td>False</td>\n",
       "      <td>False</td>\n",
       "      <td>False</td>\n",
       "    </tr>\n",
       "    <tr>\n",
       "      <th>1</th>\n",
       "      <td>Oreo Cookies &amp; Cream No-Bake Cheesecake</td>\n",
       "      <td>0.48</td>\n",
       "      <td>2</td>\n",
       "      <td>214</td>\n",
       "      <td>18</td>\n",
       "      <td>20</td>\n",
       "      <td>45</td>\n",
       "      <td>0.0</td>\n",
       "      <td>[]</td>\n",
       "      <td>False</td>\n",
       "      <td>True</td>\n",
       "      <td>False</td>\n",
       "      <td>False</td>\n",
       "      <td>False</td>\n",
       "    </tr>\n",
       "    <tr>\n",
       "      <th>2</th>\n",
       "      <td>Philly Cheesesteak Grilled Wraps</td>\n",
       "      <td>3.55</td>\n",
       "      <td>27</td>\n",
       "      <td>412</td>\n",
       "      <td>23</td>\n",
       "      <td>4</td>\n",
       "      <td>45</td>\n",
       "      <td>32.0</td>\n",
       "      <td>[]</td>\n",
       "      <td>True</td>\n",
       "      <td>False</td>\n",
       "      <td>True</td>\n",
       "      <td>False</td>\n",
       "      <td>False</td>\n",
       "    </tr>\n",
       "    <tr>\n",
       "      <th>3</th>\n",
       "      <td>Beef Tenderloin With Creamy Alouette® Mushroom...</td>\n",
       "      <td>1.74</td>\n",
       "      <td>11</td>\n",
       "      <td>371</td>\n",
       "      <td>33</td>\n",
       "      <td>2</td>\n",
       "      <td>45</td>\n",
       "      <td>7.0</td>\n",
       "      <td>[]</td>\n",
       "      <td>True</td>\n",
       "      <td>False</td>\n",
       "      <td>False</td>\n",
       "      <td>False</td>\n",
       "      <td>False</td>\n",
       "    </tr>\n",
       "    <tr>\n",
       "      <th>4</th>\n",
       "      <td>Mussels &amp; Clams in White Wine {Cozze e Vongole}</td>\n",
       "      <td>2.52</td>\n",
       "      <td>2</td>\n",
       "      <td>116</td>\n",
       "      <td>4</td>\n",
       "      <td>4</td>\n",
       "      <td>45</td>\n",
       "      <td>18.0</td>\n",
       "      <td>[]</td>\n",
       "      <td>True</td>\n",
       "      <td>True</td>\n",
       "      <td>True</td>\n",
       "      <td>False</td>\n",
       "      <td>False</td>\n",
       "    </tr>\n",
       "  </tbody>\n",
       "</table>\n",
       "</div>"
      ],
      "text/plain": [
       "                                                Name  Cost  Protein (g)  \\\n",
       "0  Butternut Squash Gnocchi With Whiskey Cream Sauce  3.72           14   \n",
       "1            Oreo Cookies & Cream No-Bake Cheesecake  0.48            2   \n",
       "2                   Philly Cheesesteak Grilled Wraps  3.55           27   \n",
       "3  Beef Tenderloin With Creamy Alouette® Mushroom...  1.74           11   \n",
       "4    Mussels & Clams in White Wine {Cozze e Vongole}  2.52            2   \n",
       "\n",
       "   Calories  Fat (g)  Servings  Preparation Time (m)  Health Score  \\\n",
       "0       527       23         4                    45          11.0   \n",
       "1       214       18        20                    45           0.0   \n",
       "2       412       23         4                    45          32.0   \n",
       "3       371       33         2                    45           7.0   \n",
       "4       116        4         4                    45          18.0   \n",
       "\n",
       "                                    Cuisine  Gluten Free  Vegetarian  \\\n",
       "0  ['Mediterranean', 'Italian', 'European']        False       False   \n",
       "1                                        []        False        True   \n",
       "2                                        []         True       False   \n",
       "3                                        []         True       False   \n",
       "4                                        []         True        True   \n",
       "\n",
       "   Dairy Free  Sustainable  Cheap  \n",
       "0       False        False  False  \n",
       "1       False        False  False  \n",
       "2        True        False  False  \n",
       "3       False        False  False  \n",
       "4        True        False  False  "
      ]
     },
     "execution_count": 6,
     "metadata": {},
     "output_type": "execute_result"
    }
   ],
   "source": [
    "recipe_data_path = 'recipe_stats.csv'\n",
    "recipe_data = pd.read_csv(recipe_data_path)\n",
    "recipe_data.head()"
   ]
  },
  {
   "cell_type": "code",
   "execution_count": 11,
   "id": "ec90d2ab",
   "metadata": {
    "collapsed": false
   },
   "outputs": [
    {
     "data": {
      "text/plain": [
       "<matplotlib.collections.PathCollection at 0x12286153a58>"
      ]
     },
     "execution_count": 11,
     "metadata": {},
     "output_type": "execute_result"
    },
    {
     "data": {
      "image/png": "[encoded data removed]",
      "text/plain": [
       "<Figure size 432x288 with 1 Axes>"
      ]
     },
     "metadata": {
      "needs_background": "light"
     },
     "output_type": "display_data"
    }
   ],
   "source": [
    "#taking an initial look at health score versus cost via scatterplot\n",
    "plt.scatter(recipe_data['Cost'], recipe_data['Health Score'])"
   ]
  },
  {
   "cell_type": "code",
   "execution_count": 34,
   "id": "351df1bc",
   "metadata": {
    "collapsed": false
   },
   "outputs": [
    {
     "data": {
      "image/png": "[encoded data removed]",
      "text/plain": [
       "<Figure size 432x288 with 1 Axes>"
      ]
     },
     "metadata": {
      "needs_background": "light"
     },
     "output_type": "display_data"
    },
    {
     "name": "stdout",
     "output_type": "stream",
     "text": [
      "The lower quartile of cost is: 0.74\n",
      "The upper quartile of cost is: 2.5725\n",
      "The interquartile range of cost is: 1.8324999999999998\n",
      "The the median of cost is: 1.44 \n",
      "Values below -2.00875 could be outliers.\n",
      "Values above 5.321249999999999 could be outliers.\n"
     ]
    },
    {
     "data": {
      "image/png": "[encoded data removed]",
      "text/plain": [
       "<Figure size 432x288 with 1 Axes>"
      ]
     },
     "metadata": {
      "needs_background": "light"
     },
     "output_type": "display_data"
    }
   ],
   "source": [
    "fig1, ax1 = plt.subplots()\n",
    "ax1.set_title('Cost')\n",
    "ax1.set_ylabel('Cost)')\n",
    "ax1.boxplot(recipe_data['Cost'])\n",
    "plt.show()\n",
    "\n",
    "\n",
    "quartiles = recipe_data['Cost'].quantile([.25,.5,.75])\n",
    "lowerq = quartiles[0.25]\n",
    "upperq = quartiles[0.75]\n",
    "iqr = upperq-lowerq\n",
    "\n",
    "print(f\"The lower quartile of cost is: {lowerq}\")\n",
    "print(f\"The upper quartile of cost is: {upperq}\")\n",
    "print(f\"The interquartile range of cost is: {iqr}\")\n",
    "print(f\"The the median of cost is: {quartiles[0.5]} \")\n",
    "\n",
    "lower_bound = lowerq - (1.5*iqr)\n",
    "upper_bound = upperq + (1.5*iqr)\n",
    "print(f\"Values below {lower_bound} could be outliers.\")\n",
    "print(f\"Values above {upper_bound} could be outliers.\")\n",
    "non_outliers = (recipe_data.loc[(recipe_data['Cost'] <= upper_bound) & \n",
    "                                        (recipe_data['Cost'] >= lower_bound)])\n",
    "\n",
    "fig2, ax2 = plt.subplots()\n",
    "ax2.set_title('Cost')\n",
    "ax2.set_ylabel('Cost)')\n",
    "ax2.boxplot(non_outliers['Cost'])\n",
    "plt.show()"
   ]
  },
  {
   "cell_type": "code",
   "execution_count": 19,
   "id": "10689c52",
   "metadata": {
    "collapsed": false
   },
   "outputs": [
    {
     "data": {
      "image/png": "[encoded data removed]",
      "text/plain": [
       "<Figure size 432x288 with 1 Axes>"
      ]
     },
     "metadata": {
      "needs_background": "light"
     },
     "output_type": "display_data"
    }
   ],
   "source": [
    "fig1, ax1 = plt.subplots()\n",
    "ax1.set_title('Health Score')\n",
    "ax1.set_ylabel('Health Score')\n",
    "ax1.boxplot(recipe_data['Health Score'])\n",
    "plt.show()"
   ]
  },
  {
   "cell_type": "code",
   "execution_count": null,
   "id": "3b2518ae",
   "metadata": {
    "collapsed": false
   },
   "outputs": [],
   "source": []
  },
  {
   "cell_type": "code",
   "execution_count": 21,
   "id": "99f01e12",
   "metadata": {
    "collapsed": false
   },
   "outputs": [
    {
     "name": "stdout",
     "output_type": "stream",
     "text": [
      "The lower quartile of Health Score is: 3.0\n",
      "The upper quartile of Health Score is: 27.0\n",
      "The interquartile range of Health Score is: 24.0\n",
      "The the median of Health Score is: 11.0 \n",
      "Values below -33.0 could be outliers.\n",
      "Values above 63.0 could be outliers.\n"
     ]
    },
    {
     "data": {
      "text/plain": [
       "0.0"
      ]
     },
     "execution_count": 21,
     "metadata": {},
     "output_type": "execute_result"
    }
   ],
   "source": [
    "quartiles = recipe_data['Health Score'].quantile([.25,.5,.75])\n",
    "lowerq = quartiles[0.25]\n",
    "upperq = quartiles[0.75]\n",
    "iqr = upperq-lowerq\n",
    "\n",
    "print(f\"The lower quartile of Health Score is: {lowerq}\")\n",
    "print(f\"The upper quartile of Health Score is: {upperq}\")\n",
    "print(f\"The interquartile range of Health Score is: {iqr}\")\n",
    "print(f\"The the median of Health Score is: {quartiles[0.5]} \")\n",
    "\n",
    "lower_bound = lowerq - (1.5*iqr)\n",
    "upper_bound = upperq + (1.5*iqr)\n",
    "print(f\"Values below {lower_bound} could be outliers.\")\n",
    "print(f\"Values above {upper_bound} could be outliers.\")\n",
    "recipe_data['Health Score'].min()"
   ]
  },
  {
   "cell_type": "code",
   "execution_count": null,
   "id": "94f2ca0e",
   "metadata": {
    "collapsed": true
   },
   "outputs": [],
   "source": []
  }
 ],
 "metadata": {
  "kernelspec": {
   "display_name": "PythonData",
   "language": "python",
   "name": "pythondata"
  },
  "language_info": {
   "codemirror_mode": {
    "name": "ipython",
    "version": 3
   },
   "file_extension": ".py",
   "mimetype": "text/x-python",
   "name": "python",
   "nbconvert_exporter": "python",
   "pygments_lexer": "ipython3",
   "version": "3.6.10"
  }
 },
 "nbformat": 4,
 "nbformat_minor": 5
}
