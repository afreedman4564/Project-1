{
 "cells": [
  {
   "cell_type": "code",
   "execution_count": 1,
   "id": "9c9f0943",
   "metadata": {},
   "outputs": [],
   "source": [
    "from pprint import pprint\n",
    "import requests\n",
    "import json\n",
    "#from config import apikey\n",
    "apikey = \"f5d6195dbcce4deb95137ea491cde676\""
   ]
  },
  {
   "cell_type": "code",
   "execution_count": 2,
   "id": "8482dddf",
   "metadata": {},
   "outputs": [
    {
     "ename": "ValueError",
     "evalue": "invalid literal for int() with base 10: 'approximately 45 '",
     "output_type": "error",
     "traceback": [
      "\u001b[1;31m---------------------------------------------------------------------------\u001b[0m",
      "\u001b[1;31mValueError\u001b[0m                                Traceback (most recent call last)",
      "\u001b[1;32m<ipython-input-2-335174ecefec>\u001b[0m in \u001b[0;36m<module>\u001b[1;34m\u001b[0m\n\u001b[0;32m     34\u001b[0m \u001b[0mpartition_time\u001b[0m \u001b[1;33m=\u001b[0m \u001b[0mbefore_time\u001b[0m\u001b[1;33m.\u001b[0m\u001b[0msplit\u001b[0m\u001b[1;33m(\u001b[0m\u001b[1;34m\">\"\u001b[0m\u001b[1;33m)\u001b[0m\u001b[1;33m\u001b[0m\u001b[1;33m\u001b[0m\u001b[0m\n\u001b[0;32m     35\u001b[0m \u001b[0mnum\u001b[0m \u001b[1;33m=\u001b[0m \u001b[0mlen\u001b[0m\u001b[1;33m(\u001b[0m\u001b[0mpartition_time\u001b[0m\u001b[1;33m)\u001b[0m\u001b[1;33m\u001b[0m\u001b[1;33m\u001b[0m\u001b[0m\n\u001b[1;32m---> 36\u001b[1;33m \u001b[0mminutes\u001b[0m \u001b[1;33m=\u001b[0m \u001b[0mint\u001b[0m\u001b[1;33m(\u001b[0m\u001b[0mpartition_time\u001b[0m\u001b[1;33m[\u001b[0m\u001b[0mnum\u001b[0m\u001b[1;33m-\u001b[0m\u001b[1;36m1\u001b[0m\u001b[1;33m]\u001b[0m\u001b[1;33m)\u001b[0m\u001b[1;33m\u001b[0m\u001b[1;33m\u001b[0m\u001b[0m\n\u001b[0m\u001b[0;32m     37\u001b[0m \u001b[1;33m\u001b[0m\u001b[0m\n\u001b[0;32m     38\u001b[0m \u001b[1;31m# recipe = spoon_json[\"recipes\"][0][\"summary\"]\u001b[0m\u001b[1;33m\u001b[0m\u001b[1;33m\u001b[0m\u001b[1;33m\u001b[0m\u001b[0m\n",
      "\u001b[1;31mValueError\u001b[0m: invalid literal for int() with base 10: 'approximately 45 '"
     ]
    }
   ],
   "source": [
    "#food_id = 14106\n",
    "url = f\"https://api.spoonacular.com/recipes/random?\"\n",
    "query_url = url + \"apiKey=\" + apikey\n",
    "\n",
    "spoon_response = requests.get(query_url)\n",
    "spoon_json = spoon_response.json()\n",
    "#pprint(spoon_json)\n",
    "\n",
    "# recipe = spoon_json[\"recipes\"][0][\"summary\"]\n",
    "# calories = recipe.partition(\"calories\")\n",
    "# before_calories = calories[0]\n",
    "# partition_calories = before_calories.split(\">\")\n",
    "# num = len(partition_calories)\n",
    "# cals = int(partition_calories[num-1])\n",
    "# print(cals)\n",
    "\n",
    "# recipe = spoon_json[\"recipes\"][0][\"summary\"]\n",
    "# protein = recipe.partition(\"g of protein\")\n",
    "# before_protein = protein[0]\n",
    "# partition_protein = before_protein.split(\">\")\n",
    "# num = len(partition_protein)\n",
    "# prtn = int(partition_protein[num-1])\n",
    "\n",
    "# recipe = spoon_json[\"recipes\"][0][\"summary\"]\n",
    "# fat = recipe.partition(\"g of fat\")\n",
    "# before_fat = fat[0]\n",
    "# partition_fat = before_fat.split(\">\")\n",
    "# num = len(partition_fat)\n",
    "# fat_ = int(partition_fat[num-1])\n",
    "\n",
    "recipe = spoon_json[\"recipes\"][0][\"summary\"]\n",
    "time = recipe.partition(\"minutes\")\n",
    "before_time = time[0]\n",
    "partition_time = before_time.split(\">\")\n",
    "num = len(partition_time)\n",
    "minutes = int(partition_time[num-1])\n",
    "\n",
    "# recipe = spoon_json[\"recipes\"][0][\"summary\"]\n",
    "# cost = recipe.partition(\"per serving\")\n",
    "# before_cost = cost[0]\n",
    "# partition_cost = before_cost.split(\">$\")\n",
    "# num = len(partition_cost)\n",
    "# price = float(partition_cost[num-1])\n",
    "\n",
    "\n",
    "pprint(recipe)\n",
    "print(f\"-----------------\")\n",
    "print(time)\n",
    "print(f\"-----------------\")\n",
    "print(before_time)\n",
    "print(f\"-----------------\")\n",
    "print(partition_time)\n",
    "print(minutes)\n",
    "\n",
    "# a_string = \"docs.python.org\"\n",
    "# partitioned_string = a_string. partition('. ')\n",
    "# print(partitioned_string)\n",
    "# before_first_period = partitioned_string[0]\n",
    "# print(before_first_period)\n"
   ]
  },
  {
   "cell_type": "code",
   "execution_count": null,
   "id": "4ff2e9e1",
   "metadata": {},
   "outputs": [],
   "source": [
    "pprint(spoon_json)"
   ]
  },
  {
   "cell_type": "code",
   "execution_count": null,
   "id": "bcfe1bc2",
   "metadata": {},
   "outputs": [],
   "source": [
    "health = spoon_json[\"recipes\"][0][\"healthScore\"]\n",
    "print(health)"
   ]
  },
  {
   "cell_type": "code",
   "execution_count": null,
   "id": "7afe3ba7",
   "metadata": {},
   "outputs": [],
   "source": [
    "gluten_free = spoon_json[\"recipes\"][0][\"glutenFree\"]\n",
    "print(gluten_free)"
   ]
  },
  {
   "cell_type": "code",
   "execution_count": null,
   "id": "52b232f3",
   "metadata": {},
   "outputs": [],
   "source": [
    "vegetarian = spoon_json[\"recipes\"][0][\"vegetarian\"]\n",
    "print(vegetarian)"
   ]
  },
  {
   "cell_type": "code",
   "execution_count": null,
   "id": "e696ef0b",
   "metadata": {},
   "outputs": [],
   "source": [
    "cuisine = spoon_json[\"recipes\"][0][\"cuisines\"]\n",
    "print(cuisine)"
   ]
  },
  {
   "cell_type": "code",
   "execution_count": null,
   "id": "14bfb674",
   "metadata": {},
   "outputs": [],
   "source": [
    "dairy_free = spoon_json[\"recipes\"][0][\"dairyFree\"]\n",
    "print(dairy_free)"
   ]
  },
  {
   "cell_type": "code",
   "execution_count": null,
   "id": "48db57c0",
   "metadata": {},
   "outputs": [],
   "source": []
  }
 ],
 "metadata": {
  "kernelspec": {
   "display_name": "PythonData",
   "language": "python",
   "name": "pythondata"
  },
  "language_info": {
   "codemirror_mode": {
    "name": "ipython",
    "version": 3
   },
   "file_extension": ".py",
   "mimetype": "text/x-python",
   "name": "python",
   "nbconvert_exporter": "python",
   "pygments_lexer": "ipython3",
   "version": "3.6.10"
  }
 },
 "nbformat": 4,
 "nbformat_minor": 5
}
