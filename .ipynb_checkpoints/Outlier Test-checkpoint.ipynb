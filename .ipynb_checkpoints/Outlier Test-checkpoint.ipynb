{
 "cells": [
  {
   "cell_type": "code",
   "execution_count": null,
   "id": "8e939040",
   "metadata": {},
   "outputs": [],
   "source": [
    "# retrieve dependencies\n",
    "from matplotlib import pyplot as plt\n",
    "import numpy as np\n",
    "import pandas as pd\n",
    "import scipy.stats as st\n",
    "import seaborn as sns; sns.set_theme()\n",
    "from sklearn import preprocessing"
   ]
  },
  {
   "cell_type": "code",
   "execution_count": null,
   "id": "7390e735",
   "metadata": {},
   "outputs": [],
   "source": [
    "spoon_input = pd.read_csv(\"nonoutliers.csv\")\n",
    "spoon_input.head()\n",
    "\n",
    "food_pd = pd.read_csv(\"food_category.csv\")\n",
    "food_pd\n",
    "\n",
    "ttest_pd = pd.read_csv(\"ttestdef.csv\")\n",
    "food_pd"
   ]
  },
  {
   "cell_type": "code",
   "execution_count": null,
   "id": "83f636e7",
   "metadata": {},
   "outputs": [],
   "source": [
    "spoon_input[\"name lower\"] = spoon_input[\"Name\"].str.lower()\n",
    "spoon_input = spoon_input.loc[(spoon_input[\"Servings\"] != 1) & (spoon_input[\"Calories\"] < 6400) , :]\n",
    "spoon_input = spoon_input.drop([\"Cuisine\", \"Sustainable\", \"Cheap\"], axis = 1)\n",
    "spoon_input.head()"
   ]
  },
  {
   "cell_type": "code",
   "execution_count": null,
   "id": "472ed973",
   "metadata": {},
   "outputs": [],
   "source": [
    "# copy the data\n",
    "spoon_pd = spoon_input.copy()\n",
    "  \n",
    "# apply normalization techniques by Column 1\n",
    "\n",
    "def scale_value(feature):\n",
    "    column = feature\n",
    "    spoon_pd[column] = (spoon_pd[column] - spoon_pd[column].min()) / (spoon_pd[column].max() - spoon_pd[column].min())    \n",
    "    return spoon_pd[column]\n",
    "\n",
    "\n",
    "scale_value(\"Cost\")\n",
    "scale_value(\"Protein (g)\")\n",
    "scale_value(\"Calories\")\n",
    "scale_value(\"Servings\")\n",
    "scale_value(\"Fat (g)\")\n",
    "scale_value(\"Preparation Time (m)\")\n",
    "scale_value(\"Health Score\")\n",
    "# view normalized data\n",
    "\n",
    "display(spoon_pd)"
   ]
  },
  {
   "cell_type": "code",
   "execution_count": null,
   "id": "5e1cc259",
   "metadata": {},
   "outputs": [],
   "source": [
    "spoon_input[\"Food Type\"] = \"Other\"\n",
    "spoon_input[\"Meat Type\"] = \"Other\"\n",
    "\n",
    "for row, col in food_pd.iterrows():\n",
    "    spoon_input[\"Food Type\"] = np.where(spoon_input[\"name lower\"].str.contains(col[0]), col[1], spoon_input[\"Food Type\"])\n",
    "    spoon_input[\"Meat Type\"] = np.where(spoon_input[\"name lower\"].str.contains(col[0]), col[2], spoon_input[\"Meat Type\"])\n",
    "    \n",
    "# spoon_pd.to_csv(\"spoon.csv\", index = True, header = True)\n",
    "# spoon_pd[\"Meat Type\"].value_counts()"
   ]
  },
  {
   "cell_type": "code",
   "execution_count": null,
   "id": "cae54d2f",
   "metadata": {},
   "outputs": [],
   "source": [
    "spoon_pd[\"Food Type\"] = \"Other\"\n",
    "spoon_pd[\"Meat Type\"] = \"Other\"\n",
    "\n",
    "for row, col in food_pd.iterrows():\n",
    "    spoon_pd[\"Food Type\"] = np.where(spoon_pd[\"name lower\"].str.contains(col[0]), col[1], spoon_pd[\"Food Type\"])\n",
    "    spoon_pd[\"Meat Type\"] = np.where(spoon_pd[\"name lower\"].str.contains(col[0]), col[2], spoon_pd[\"Meat Type\"])\n",
    "    \n",
    "spoon_pd.to_csv(\"spoon.csv\", index = True, header = True)\n",
    "spoon_pd[\"Meat Type\"].value_counts()\n",
    "    "
   ]
  },
  {
   "cell_type": "code",
   "execution_count": null,
   "id": "7b21d02f",
   "metadata": {
    "scrolled": false
   },
   "outputs": [],
   "source": [
    "y_axis_list = [\"Health Score\"]\n",
    "x_axis_list = [\"Cost\", \"Protein (g)\", \"Calories\", \"Fat (g)\", \"Servings\", \"Preparation Time (m)\", \"Health Score\"]\n",
    "\n",
    "for y in y_axis_list:\n",
    "    for x in x_axis_list:\n",
    "        if x != y:\n",
    "            plt.scatter(spoon_pd[x], spoon_pd[y], edgecolor = \"black\", color=None)\n",
    "            (slope, intercept, rvalue, pvalue, stderr) = st.linregress(spoon_pd[x], spoon_pd[y])\n",
    "            regress_values = intercept + slope*spoon_pd[x]\n",
    "            r_squared_value = f\"r-squared: {round(rvalue**2, 2)}\"\n",
    "            line_eq = f\"y = {str(round(slope, 2))}x + {round(intercept, 2)}\"\n",
    "            plt.plot(spoon_pd[x], regress_values, \"g--\")\n",
    "            plt.ylabel(f\"{y}\")\n",
    "            plt.xlabel(f\"{x}\")\n",
    "            plt.title(f\"{x} Vs. {y}\")\n",
    "            plt.figtext(1.05, .42, r_squared_value, color = \"g\")\n",
    "            plt.figtext(1.05, .376, line_eq, color = \"g\")\n",
    "            plt.subplots_adjust(bottom = 0.35, right = 1)\n",
    "            filename = \"Overall\" + x + \"Vs\" + y + \".png\"\n",
    "            plt.savefig(filename)\n",
    "            plt.show()\n",
    "            "
   ]
  },
  {
   "cell_type": "code",
   "execution_count": null,
   "id": "9c42c6e7",
   "metadata": {
    "scrolled": false
   },
   "outputs": [],
   "source": [
    "y_axis_list = [\"Cost\"]\n",
    "x_axis_list = [\"Cost\", \"Protein (g)\", \"Calories\", \"Fat (g)\", \"Servings\", \"Preparation Time (m)\", \"Health Score\"]\n",
    "\n",
    "for y in y_axis_list:\n",
    "    for x in x_axis_list:\n",
    "        if x != y:\n",
    "            plt.scatter(spoon_pd[x], spoon_pd[y], edgecolor = \"black\", color=None)\n",
    "            (slope, intercept, rvalue, pvalue, stderr) = st.linregress(spoon_pd[x], spoon_pd[y])\n",
    "            regress_values = intercept + slope*spoon_pd[x]\n",
    "            r_squared_value = f\"r-squared: {round(rvalue**2, 2)}\"\n",
    "            line_eq = f\"y = {str(round(slope, 2))}x + {round(intercept, 2)}\"\n",
    "            plt.plot(spoon_pd[x], regress_values, \"g--\")\n",
    "            plt.ylabel(f\"{y}\")\n",
    "            plt.xlabel(f\"{x}\")\n",
    "            plt.title(f\"{x} Vs. {y}\")\n",
    "            plt.figtext(1.05, .42, r_squared_value, color = \"g\")\n",
    "            plt.figtext(1.05, .376, line_eq, color = \"g\")\n",
    "            plt.subplots_adjust(bottom = 0.35, right = 1)\n",
    "            filename = \"Overall\" + x + \"Vs\" + y + \".png\"\n",
    "            plt.savefig(filename)\n",
    "            plt.show()"
   ]
  },
  {
   "cell_type": "code",
   "execution_count": null,
   "id": "406d1361",
   "metadata": {
    "scrolled": false
   },
   "outputs": [],
   "source": [
    "protein_df = spoon_pd[spoon_pd[\"Meat Type\"] == \"Meat\"]\n",
    "\n",
    "y_axis_list = [\"Cost\"]\n",
    "x_axis_list = [\"Cost\", \"Protein (g)\", \"Calories\", \"Fat (g)\", \"Servings\", \"Preparation Time (m)\", \"Health Score\"]\n",
    "\n",
    "for y in y_axis_list:\n",
    "    for x in x_axis_list:\n",
    "        if x != y:\n",
    "            plt.scatter(protein_df[x], protein_df[y], edgecolor = \"black\", color=None)\n",
    "            (slope, intercept, rvalue, pvalue, stderr) = st.linregress(protein_df[x], protein_df[y])\n",
    "            regress_values = intercept + slope*protein_df[x]\n",
    "            r_squared_value = f\"r-squared: {round(rvalue**2, 2)}\"\n",
    "            line_eq = f\"y = {str(round(slope, 2))}x + {round(intercept, 2)}\"\n",
    "            plt.plot(protein_df[x], regress_values, \"g--\")\n",
    "            plt.ylabel(f\"{y}\")\n",
    "            plt.xlabel(f\"{x}\")\n",
    "            plt.title(f\"{x} Vs. {y}\")\n",
    "            plt.figtext(1.05, .42, r_squared_value, color = \"g\")\n",
    "            plt.figtext(1.05, .376, line_eq, color = \"g\")\n",
    "            plt.subplots_adjust(bottom = 0.35, right = 1)\n",
    "            filename = \"Meat\" + x + \"Vs\" + y + \".png\"\n",
    "            plt.savefig(filename)\n",
    "            plt.show()"
   ]
  },
  {
   "cell_type": "code",
   "execution_count": null,
   "id": "4ba48f0d",
   "metadata": {
    "scrolled": false
   },
   "outputs": [],
   "source": [
    "vegetarian_df = spoon_pd[spoon_pd[\"Meat Type\"] != \"Meat\"]\n",
    "\n",
    "y_axis_list = [\"Cost\"]\n",
    "x_axis_list = [\"Cost\", \"Protein (g)\", \"Calories\", \"Fat (g)\", \"Servings\", \"Preparation Time (m)\", \"Health Score\"]\n",
    "\n",
    "for y in y_axis_list:\n",
    "    for x in x_axis_list:\n",
    "        if x != y:\n",
    "            plt.scatter(vegetarian_df[x], vegetarian_df[y], edgecolor = \"black\", color=None)\n",
    "            (slope, intercept, rvalue, pvalue, stderr) = st.linregress(vegetarian_df[x], vegetarian_df[y])\n",
    "            regress_values = intercept + slope*vegetarian_df[x]\n",
    "            r_squared_value = f\"r-squared: {round(rvalue**2, 2)}\"\n",
    "            line_eq = f\"y = {str(round(slope, 2))}x + {round(intercept, 2)}\"\n",
    "            plt.plot(vegetarian_df[x], regress_values, \"g--\")\n",
    "            plt.ylabel(f\"{y}\")\n",
    "            plt.xlabel(f\"{x}\")\n",
    "            plt.title(f\"{x} Vs. {y}\")\n",
    "            plt.figtext(1.05, .42, r_squared_value, color = \"g\")\n",
    "            plt.figtext(1.05, .376, line_eq, color = \"g\")\n",
    "            plt.subplots_adjust(bottom = 0.35, right = 1)\n",
    "            filename = \"Vegetarian\" + x + \"Vs\" + y + \".png\"\n",
    "            plt.savefig(filename)\n",
    "            plt.show()"
   ]
  },
  {
   "cell_type": "code",
   "execution_count": null,
   "id": "fff6c08c",
   "metadata": {
    "scrolled": false
   },
   "outputs": [],
   "source": [
    "pd.plotting.scatter_matrix(spoon_pd[[\"Cost\", \"Protein (g)\", \"Calories\", \"Fat (g)\", \"Servings\", \"Preparation Time (m)\", \"Health Score\"]], figsize = (20, 10))\n",
    "plt.show()"
   ]
  },
  {
   "cell_type": "code",
   "execution_count": null,
   "id": "29b5019a",
   "metadata": {},
   "outputs": [],
   "source": [
    "ttest_pd"
   ]
  },
  {
   "cell_type": "code",
   "execution_count": null,
   "id": "84c25db8",
   "metadata": {},
   "outputs": [],
   "source": [
    "spoon_grp_pd = spoon_input.groupby([\"Food Type\"]).agg({\"Cost\":[\"count\", \"mean\", \"median\", \"var\", \"std\", \"sem\"]})\n",
    "spoon_grp_pd.columns = [\"Cost Count\", \"Cost Avg\", \"Cost Median\", \"Cost Var\", \"Cost Std\", \"Cost SEM\"]\n",
    "spoon_grp_pd.reset_index(inplace = True)\n",
    "spoon_grp_pd.set_index(\"Food Type\", inplace = True)\n",
    "spoon_grp_pd.sort_values(by = [\"Cost Avg\"], inplace = True, ascending = False)\n",
    "spoon_grp_pd"
   ]
  },
  {
   "cell_type": "code",
   "execution_count": null,
   "id": "8bc524c5",
   "metadata": {},
   "outputs": [],
   "source": [
    "spoon_grp_v_pd = spoon_input.groupby([\"Meat Type\"]).agg({\"Cost\":[\"count\", \"mean\", \"median\", \"var\", \"std\", \"sem\"]})\n",
    "spoon_grp_v_pd.columns = [\"Cost Count\", \"Cost Avg\", \"Cost Median\", \"Cost Var\", \"Cost Std\", \"Cost SEM\"]\n",
    "spoon_grp_v_pd.reset_index(inplace = True)\n",
    "spoon_grp_v_pd.set_index(\"Meat Type\", inplace = True)\n",
    "spoon_grp_v_pd"
   ]
  },
  {
   "cell_type": "code",
   "execution_count": null,
   "id": "6901437c",
   "metadata": {},
   "outputs": [],
   "source": [
    "spoon_grp_s_pd = spoon_input.agg({\"Cost\":[\"count\", \"mean\", \"median\", \"var\", \"std\", \"sem\"]}).transpose()\n",
    "spoon_grp_s_pd.columns = [\"Cost Count\", \"Cost Avg\", \"Cost Median\", \"Cost Var\", \"Cost Std\", \"Cost SEM\"]\n",
    "spoon_grp_s_pd.reset_index(inplace = True)\n",
    "spoon_grp_s_pd.rename(index = {0: \"Cost Summary\"}, inplace = True)\n",
    "spoon_grp_s_pd"
   ]
  },
  {
   "cell_type": "code",
   "execution_count": null,
   "id": "6bc44221",
   "metadata": {
    "scrolled": false
   },
   "outputs": [],
   "source": [
    "combined_df = spoon_grp_pd.append([spoon_grp_v_pd, spoon_grp_s_pd]).drop(\"index\", axis = 1)\n",
    "combined_df"
   ]
  },
  {
   "cell_type": "code",
   "execution_count": null,
   "id": "d8c6563d",
   "metadata": {},
   "outputs": [],
   "source": [
    "x_axis = np.arange(len(spoon_grp_pd))\n",
    "tick_values = [value for value in x_axis]\n",
    "plt.bar(x_axis, spoon_grp_pd[\"Cost Count\"], align = \"center\")\n",
    "plt.xticks(tick_values, spoon_grp_pd.index.values, rotation = \"vertical\")\n",
    "plt.show()"
   ]
  },
  {
   "cell_type": "code",
   "execution_count": null,
   "id": "93488489",
   "metadata": {},
   "outputs": [],
   "source": [
    "\n",
    "spoon_veg = spoon_pd.loc[(spoon_pd[\"Vegetarian\"] == True), :]\n",
    "spoon_veg_nodes = spoon_pd.loc[(spoon_pd[\"Vegetarian\"] == True) & (spoon_pd[\"Food Type\"] != \"dessert\"), :]\n",
    "spoon_carn = spoon_pd[spoon_pd[\"Vegetarian\"] == False]\n",
    "\n",
    "print(\"Veggie\")\n",
    "print(spoon_veg.describe())\n",
    "print(\"Veggie No Dessert\")\n",
    "print(spoon_veg_nodes.describe())\n",
    "print(\"Meat\")\n",
    "print(spoon_carn.describe())"
   ]
  },
  {
   "cell_type": "code",
   "execution_count": null,
   "id": "0669b919",
   "metadata": {
    "scrolled": false
   },
   "outputs": [],
   "source": [
    "for index, row in ttest_pd.iterrows():\n",
    "    pop1 = spoon_pd.loc[spoon_pd[row[\"feature\"]] == row[\"val1\"], :]\n",
    "    pop2 = spoon_pd.loc[spoon_pd[row[\"feature\"]] == row[\"val2\"], :]\n",
    "    ttest1, pval1 = st.ttest_ind(pop1[row[\"metric\"]], pop2[row[\"metric\"]], equal_var = False)\n",
    "\n",
    "    pop3 = spoon_pd.loc[spoon_pd[row[\"feature\"]] == row[\"val3\"], :]\n",
    "    pop4 = spoon_pd.loc[spoon_pd[row[\"feature\"]] == row[\"val4\"], :]\n",
    "    ttest2, pval2 = st.ttest_ind(pop3[row[\"metric\"]], pop4[row[\"metric\"]], equal_var = False)\n",
    "        \n",
    "    pop5 = spoon_pd.loc[spoon_pd[row[\"feature\"]] == row[\"val5\"], :]\n",
    "    pop6 = spoon_pd.loc[spoon_pd[row[\"feature\"]] == row[\"val6\"], :]\n",
    "    ttest3, pval3 = st.ttest_ind(pop5[row[\"metric\"]], pop6[row[\"metric\"]], equal_var = False)\n",
    "        \n",
    "    pop7 = spoon_pd.loc[spoon_pd[row[\"feature\"]] == row[\"val7\"], :]\n",
    "    pop8 = spoon_pd.loc[spoon_pd[row[\"feature\"]] == row[\"val8\"], :]\n",
    "    ttest4, pval4 = st.ttest_ind(pop7[row[\"metric\"]], pop8[row[\"metric\"]], equal_var = False)\n",
    "        \n",
    "    fig, ((ax0, ax1), (ax2, ax3), (ax4, ax5), (ax6, ax7)) = plt.subplots(nrows=4, ncols=2)\n",
    "    #plt.figure(figsize=(8, 6), dpi=80)\n",
    "    fig.tight_layout(pad = 3)\n",
    "    fig.suptitle('T-test and p-value:' + row[\"metric\"], fontsize = 18, y = 2.65)\n",
    "    \n",
    "    ax0.set_title('Center Title')\n",
    "    ax0.scatter(range(len(pop1)), pop1[row[\"metric\"]], label=row[\"val1\"])\n",
    "    ax0.scatter(range(len(pop2)), pop2[row[\"metric\"]], label=row[\"val2\"])\n",
    "    ax0.set_title(row[\"val1\"] + \" Vs. \" + row[\"val2\"])\n",
    "    ax0.legend(prop={'size': 10}, loc = \"upper right\", facecolor='white')\n",
    "    ax0.set_facecolor(\"White\")\n",
    "    ax0.axhline(linewidth=1.5, color='black')\n",
    "    ax0.axvline(linewidth=1.5, color='black')\n",
    "\n",
    "    ax1.scatter(range(len(pop3)), pop3[row[\"metric\"]], label=row[\"val3\"])\n",
    "    ax1.scatter(range(len(pop4)), pop4[row[\"metric\"]], label=row[\"val4\"])\n",
    "    ax1.set_title(row[\"val3\"] + \" Vs. \" + row[\"val4\"])\n",
    "    ax1.legend(prop={'size': 10}, loc = \"upper right\", facecolor='white')\n",
    "    ax1.set_facecolor(\"White\")\n",
    "    ax1.axhline(linewidth=1.5, color='black')\n",
    "    ax1.axvline(linewidth=1.5, color='black')    \n",
    "    \n",
    "    ax2.hist(pop1[row[\"metric\"]], 5, density=True, alpha=0.7, label=row[\"val1\"])\n",
    "    ax2.hist(pop2[row[\"metric\"]], 5, density=True, alpha=0.7, label=row[\"val2\"])\n",
    "    ax2.axvline(pop1[row[\"metric\"]].mean(), color='blue', linestyle='dashed', linewidth=2)\n",
    "    ax2.axvline(pop2[row[\"metric\"]].mean(), color='darkorange', linestyle='dashed', linewidth=2)\n",
    "    ax2.set_facecolor(\"White\")\n",
    "    ax2.axhline(linewidth=4, color='black')\n",
    "    ax2.axvline(linewidth=1.5, color='black')    \n",
    "\n",
    "    ax3.hist(pop3[row[\"metric\"]], 5, density=True, alpha=0.7, label=row[\"val3\"])\n",
    "    ax3.hist(pop4[row[\"metric\"]], 5, density=True, alpha=0.7, label=row[\"val4\"])\n",
    "    ax3.axvline(pop3[row[\"metric\"]].mean(), color='blue', linestyle='dashed', linewidth=2)\n",
    "    ax3.axvline(pop4[row[\"metric\"]].mean(), color='darkorange', linestyle='dashed', linewidth=2)\n",
    "    ax3.set_facecolor(\"White\")\n",
    "    ax3.axhline(linewidth=4, color='black')\n",
    "    ax3.axvline(linewidth=1.5, color='black')    \n",
    "        \n",
    "    ax4.scatter(range(len(pop5)), pop5[row[\"metric\"]], label=row[\"val5\"])\n",
    "    ax4.scatter(range(len(pop6)), pop6[row[\"metric\"]], label=row[\"val6\"])\n",
    "    ax4.set_title(row[\"val5\"] + \" Vs. \" + row[\"val6\"])\n",
    "    ax4.legend(prop={'size': 10}, loc = \"upper right\", facecolor='white')\n",
    "    ax4.set_facecolor(\"White\")\n",
    "    ax4.axhline(linewidth=1.5, color='black')\n",
    "    ax4.axvline(linewidth=1.5, color='black')    \n",
    " \n",
    "    ax5.scatter(range(len(pop7)), pop7[row[\"metric\"]], label=row[\"val7\"])\n",
    "    ax5.scatter(range(len(pop8)), pop8[row[\"metric\"]], label=row[\"val8\"])\n",
    "    ax5.set_title(row[\"val7\"] + \" Vs. \" + row[\"val8\"])\n",
    "    ax5.legend(prop={'size': 10}, loc = \"upper right\", facecolor='white')\n",
    "    ax5.set_facecolor(\"White\")\n",
    "    ax5.axhline(linewidth=1.5, color='black')\n",
    "    ax5.axvline(linewidth=1.5, color='black')    \n",
    "    \n",
    "    ax6.hist(pop5[row[\"metric\"]], 5, density=True, alpha=0.7, label=row[\"val5\"])\n",
    "    ax6.hist(pop6[row[\"metric\"]], 5, density=True, alpha=0.7, label=row[\"val6\"])\n",
    "    ax6.axvline(pop5[row[\"metric\"]].mean(), color='blue', linestyle='dashed', linewidth=2)\n",
    "    ax6.axvline(pop6[row[\"metric\"]].mean(), color='darkorange', linestyle='dashed', linewidth=2)\n",
    "    ax6.set_facecolor(\"White\")\n",
    "    ax6.axhline(linewidth=4, color='black')\n",
    "    ax6.axvline(linewidth=1.5, color='black')    \n",
    "\n",
    "    ax7.hist(pop7[row[\"metric\"]], 5, density=True, alpha=0.7, label=row[\"val7\"])\n",
    "    ax7.hist(pop8[row[\"metric\"]], 5, density=True, alpha=0.7, label=row[\"val8\"])\n",
    "    ax7.axvline(pop7[row[\"metric\"]].mean(), color='blue', linestyle='dashed', linewidth=2)\n",
    "    ax7.axvline(pop8[row[\"metric\"]].mean(), color='darkorange', linestyle='dashed', linewidth=2)\n",
    "    ax7.set_facecolor(\"White\")\n",
    "    ax7.axhline(linewidth=4, color='black')\n",
    "    ax7.axvline(linewidth=1.5, color='black')\n",
    "        \n",
    "    plt.figtext(.68, 1.825, f\"t-test: {round(ttest1, 2)}\")\n",
    "    plt.figtext(.68, 1.79, f\"p-value: {round(pval1, 4)}\")\n",
    "    plt.figtext(1.37, 1.825, f\"t-test: {round(ttest2, 2)}\")\n",
    "    plt.figtext(1.37, 1.79, f\"p-value: {round(pval2, 4)}\")\n",
    "    plt.figtext(.68, .55, f\"t-test: {round(ttest3, 2)}\")\n",
    "    plt.figtext(.68, .515, f\"p-value: {round(pval3, 4)}\")\n",
    "    plt.figtext(1.37, .55, f\"t-test: {round(ttest4, 2)}\")\n",
    "    plt.figtext(1.37, .515, f\"p-value: {round(pval4, 4)}\")\n",
    "    \n",
    "    filename = str(index) + row[\"val7\"] + \" Vs. \" + row[\"val8\"] + \".png\"\n",
    "    filename = filename.replace(\"/\", \"\")\n",
    "    plt.subplots_adjust(top=2.5, bottom=0.08, left=0.3, right=1.5, hspace=0.25, wspace=0.35)\n",
    "    #plt.tight_layout(pad=0.4, w_pad=0.5, h_pad=1.0)\n",
    "    plt.savefig(filename, bbox_inches = \"tight\")\n",
    "    plt.show()"
   ]
  },
  {
   "cell_type": "code",
   "execution_count": null,
   "id": "a16023d8",
   "metadata": {},
   "outputs": [],
   "source": [
    "bins = [0, .025, .05, .075, .1, .125, float(\"inf\")]\n",
    "group_labels = [\"1\", \"2\", \"3\", \"4\", \"5\", \"6\"]\n",
    "spoon_pd[\"Calorie Group\"] = pd.cut(spoon_pd[\"Calories\"], bins, labels = group_labels)\n",
    "\n",
    "bins = [0, .025, .05, .075, .1, .125, float(\"inf\")]\n",
    "group_labels = [\"1\", \"2\", \"3\", \"4\", \"5\", \"6\"]\n",
    "spoon_pd[\"Fat Group\"] = pd.cut(spoon_pd[\"Fat (g)\"], bins, labels = group_labels)\n",
    "\n",
    "bins = [0, .025, .05, .075, .1, .125, float(\"inf\")]\n",
    "group_labels = [\"1\", \"2\", \"3\", \"4\", \"5\", \"6\"]\n",
    "spoon_pd[\"Protein Group\"] = pd.cut(spoon_pd[\"Protein (g)\"], bins, labels = group_labels)\n",
    "\n",
    "spoon_pd.head()"
   ]
  },
  {
   "cell_type": "code",
   "execution_count": null,
   "id": "4ff026c3",
   "metadata": {
    "scrolled": false
   },
   "outputs": [],
   "source": [
    "def heat(index_feature, value_feature, col_feature, title, filename):\n",
    "    df2 = spoon_pd[[f\"{value_feature}\", f\"{index_feature}\", f\"{col_feature}\"]]\n",
    "    heatmap2_data = pd.pivot_table(df2,values=f\"{value_feature}\", index=[f\"{index_feature}\"], columns=f\"{col_feature}\")\n",
    "    heatmap2_data.head(n=5)\n",
    "    ax = plt.axes()\n",
    "    sns.heatmap(heatmap2_data, cmap=\"BuGn\")\n",
    "    ax.set_title(title, fontsize=30)\n",
    "    ax.set_xlabel(f\"{col_feature}\", fontsize=20)\n",
    "    ax.set_ylabel(f\"{index_feature}\", fontsize=20)\n",
    "    plt.subplots_adjust(top=2.5, bottom=0.08, left=0.3, right=1.5, hspace=0.25, wspace=0.35)\n",
    "    plt.xticks(fontsize = 16)\n",
    "    plt.yticks(fontsize = 16)\n",
    "    plt.tight_layout(pad=0.4, w_pad=0.5, h_pad=1.0)\n",
    "    plt.savefig(filename, bbox_inches = \"tight\")\n",
    "    return plt.show()\n",
    "    \n",
    "    \n",
    "heat('Food Type', 'Cost', 'Protein Group', \"Cost Heatmap - Protein Group by Food Type\", \"Cost Heatmap - Protein Group by Food Type.png\")\n",
    "heat('Food Type', 'Cost', 'Calorie Group', \"Cost Heatmap - Calorie Group by Food Type\", \"Cost Heatmap - Calorie Group by Food Type.png\")\n",
    "heat('Food Type', 'Cost', 'Fat Group', \"Cost Heatmap - Fat Group by Food Type\", \"Cost Heatmap - Fat Group by Food Type.png\")"
   ]
  },
  {
   "cell_type": "code",
   "execution_count": null,
   "id": "7865f994",
   "metadata": {},
   "outputs": [],
   "source": [
    "fig, axis = plt.subplots(7,1,figsize=(10, 18))\n",
    "spoon_pd.hist(ax=axis)\n",
    "fig.tight_layout()\n",
    "plt.savefig('7factor.png')\n",
    "plt.show()"
   ]
  },
  {
   "cell_type": "code",
   "execution_count": null,
   "id": "b5b6371f",
   "metadata": {},
   "outputs": [],
   "source": [
    "fig, axis = plt.subplots(1,1,figsize=(10, 8))\n",
    "sns.set_style(\"white\")\n",
    "sns.histplot(spoon_pd,kde=True)\n",
    "fig.savefig('7factor_by_serve.png')\n",
    "plt.show()"
   ]
  },
  {
   "cell_type": "code",
   "execution_count": null,
   "id": "a291ffff",
   "metadata": {},
   "outputs": [],
   "source": [
    "fig, axis = plt.subplots(1,1,figsize=(8, 8))\n",
    "hm = sns.heatmap(spoon_pd.corr(), annot = True)\n",
    "plt.show()"
   ]
  },
  {
   "cell_type": "code",
   "execution_count": null,
   "id": "f488ab6d",
   "metadata": {},
   "outputs": [],
   "source": [
    "bplot = sns.boxplot(y='Cost', x='Food Type', \n",
    "                 data=protein_df, \n",
    "                 width=0.5,\n",
    "                 palette=\"colorblind\").set_title(\"Meat Box Plot\", fontsize = 30)\n",
    "sns.set_style(\"whitegrid\")\n",
    "filename = \"Meat Boxplot.png\"\n",
    "plt.savefig(filename)\n",
    "plt.show()"
   ]
  },
  {
   "cell_type": "code",
   "execution_count": null,
   "id": "f50e52e2",
   "metadata": {},
   "outputs": [],
   "source": [
    "bplot = sns.boxplot(y='Cost', x='Food Type', \n",
    "                 data=vegetarian_df, \n",
    "                 width=0.5,\n",
    "                 palette=\"colorblind\").set_title(\"Vegetarian Box Plot Outlier\", fontsize = 30)\n",
    "sns.set(rc={'figure.figsize':(12,7)})\n",
    "sns.set_style(\"whitegrid\")\n",
    "filename = \"Vegetarian Boxplot.png\"\n",
    "plt.savefig(filename)\n",
    "plt.show()"
   ]
  },
  {
   "cell_type": "code",
   "execution_count": null,
   "id": "22b431d1",
   "metadata": {},
   "outputs": [],
   "source": [
    "group1 = spoon_pd[spoon_pd[\"Food Type\"] == \"Veggies/Beans\"][\"Cost\"]\n",
    "group2 = spoon_pd[spoon_pd[\"Food Type\"] == \"Grain/Pasta/Starch\"][\"Cost\"]\n",
    "group3 = spoon_pd[spoon_pd[\"Food Type\"] == \"Soup\"][\"Cost\"]\n",
    "group4 = spoon_pd[spoon_pd[\"Food Type\"] == \"Beverage\"][\"Cost\"]\n",
    "group5 = spoon_pd[spoon_pd[\"Food Type\"] == \"Beef\"][\"Cost\"]\n",
    "group6 = spoon_pd[spoon_pd[\"Food Type\"] == \"Poultry\"][\"Cost\"]\n",
    "group7 = spoon_pd[spoon_pd[\"Food Type\"] == \"Pork\"][\"Cost\"]\n",
    "group8 = spoon_pd[spoon_pd[\"Food Type\"] == \"Seafood\"][\"Cost\"]\n",
    "group9 = spoon_pd[spoon_pd[\"Food Type\"] == \"Dessert\"][\"Cost\"]\n",
    "group10 = spoon_pd[spoon_pd[\"Food Type\"] == \"Breakfast\"][\"Cost\"]\n",
    "group11= spoon_pd[spoon_pd[\"Food Type\"] == \"Comfort\"][\"Cost\"]\n",
    "group12 = spoon_pd[spoon_pd[\"Food Type\"] == \"Dip/Sauce\"][\"Cost\"]\n",
    "group13 = spoon_pd[spoon_pd[\"Food Type\"] == \"Salad/Fruit\"][\"Cost\"]\n",
    "st.f_oneway(group1, group2, group3, group4, group5, group6, group7, group8, group9, group10, group11, group12, group13)"
   ]
  },
  {
   "cell_type": "code",
   "execution_count": null,
   "id": "d1add859",
   "metadata": {},
   "outputs": [],
   "source": []
  }
 ],
 "metadata": {
  "kernelspec": {
   "display_name": "pythondata",
   "language": "python",
   "name": "pythondata"
  },
  "language_info": {
   "codemirror_mode": {
    "name": "ipython",
    "version": 3
   },
   "file_extension": ".py",
   "mimetype": "text/x-python",
   "name": "python",
   "nbconvert_exporter": "python",
   "pygments_lexer": "ipython3",
   "version": "3.8.12"
  }
 },
 "nbformat": 4,
 "nbformat_minor": 5
}
