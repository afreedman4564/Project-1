{
 "cells": [
  {
   "cell_type": "code",
   "execution_count": 6,
   "id": "c2d012a3",
   "metadata": {},
   "outputs": [],
   "source": [
    "from pprint import pprint\n",
    "import requests\n",
    "import json\n",
    "#from config import apikey\n",
    "apikey = \"f5d6195dbcce4deb95137ea491cde676\""
   ]
  },
  {
   "cell_type": "code",
   "execution_count": 2,
   "id": "a8dbe876",
   "metadata": {},
   "outputs": [
    {
     "ename": "NameError",
     "evalue": "name 'apikey' is not defined",
     "output_type": "error",
     "traceback": [
      "\u001b[1;31m---------------------------------------------------------------------------\u001b[0m",
      "\u001b[1;31mNameError\u001b[0m                                 Traceback (most recent call last)",
      "\u001b[1;32m<ipython-input-2-335174ecefec>\u001b[0m in \u001b[0;36m<module>\u001b[1;34m\u001b[0m\n\u001b[0;32m      1\u001b[0m \u001b[1;31m#food_id = 14106\u001b[0m\u001b[1;33m\u001b[0m\u001b[1;33m\u001b[0m\u001b[1;33m\u001b[0m\u001b[0m\n\u001b[0;32m      2\u001b[0m \u001b[0murl\u001b[0m \u001b[1;33m=\u001b[0m \u001b[1;34mf\"https://api.spoonacular.com/recipes/random?\"\u001b[0m\u001b[1;33m\u001b[0m\u001b[1;33m\u001b[0m\u001b[0m\n\u001b[1;32m----> 3\u001b[1;33m \u001b[0mquery_url\u001b[0m \u001b[1;33m=\u001b[0m \u001b[0murl\u001b[0m \u001b[1;33m+\u001b[0m \u001b[1;34m\"apiKey=\"\u001b[0m \u001b[1;33m+\u001b[0m \u001b[0mapikey\u001b[0m\u001b[1;33m\u001b[0m\u001b[1;33m\u001b[0m\u001b[0m\n\u001b[0m\u001b[0;32m      4\u001b[0m \u001b[1;33m\u001b[0m\u001b[0m\n\u001b[0;32m      5\u001b[0m \u001b[0mspoon_response\u001b[0m \u001b[1;33m=\u001b[0m \u001b[0mrequests\u001b[0m\u001b[1;33m.\u001b[0m\u001b[0mget\u001b[0m\u001b[1;33m(\u001b[0m\u001b[0mquery_url\u001b[0m\u001b[1;33m)\u001b[0m\u001b[1;33m\u001b[0m\u001b[1;33m\u001b[0m\u001b[0m\n",
      "\u001b[1;31mNameError\u001b[0m: name 'apikey' is not defined"
     ]
    }
   ],
   "source": [
    "#food_id = 14106\n",
    "url = f\"https://api.spoonacular.com/recipes/random?\"\n",
    "query_url = url + \"apiKey=\" + apikey\n",
    "\n",
    "spoon_response = requests.get(query_url)\n",
    "spoon_json = spoon_response.json()\n",
    "#pprint(spoon_json)\n",
    "\n",
    "# recipe = spoon_json[\"recipes\"][0][\"summary\"]\n",
    "# calories = recipe.partition(\"calories\")\n",
    "# before_calories = calories[0]\n",
    "# partition_calories = before_calories.split(\">\")\n",
    "# num = len(partition_calories)\n",
    "# cals = int(partition_calories[num-1])\n",
    "# print(cals)\n",
    "\n",
    "# recipe = spoon_json[\"recipes\"][0][\"summary\"]\n",
    "# protein = recipe.partition(\"g of protein\")\n",
    "# before_protein = protein[0]\n",
    "# partition_protein = before_protein.split(\">\")\n",
    "# num = len(partition_protein)\n",
    "# prtn = int(partition_protein[num-1])\n",
    "\n",
    "# recipe = spoon_json[\"recipes\"][0][\"summary\"]\n",
    "# fat = recipe.partition(\"g of fat\")\n",
    "# before_fat = fat[0]\n",
    "# partition_fat = before_fat.split(\">\")\n",
    "# num = len(partition_fat)\n",
    "# fat_ = int(partition_fat[num-1])\n",
    "\n",
    "recipe = spoon_json[\"recipes\"][0][\"summary\"]\n",
    "time = recipe.partition(\"minutes\")\n",
    "before_time = time[0]\n",
    "partition_time = before_time.split(\">\")\n",
    "num = len(partition_time)\n",
    "minutes = int(partition_time[num-1])\n",
    "\n",
    "# recipe = spoon_json[\"recipes\"][0][\"summary\"]\n",
    "# cost = recipe.partition(\"per serving\")\n",
    "# before_cost = cost[0]\n",
    "# partition_cost = before_cost.split(\">$\")\n",
    "# num = len(partition_cost)\n",
    "# price = float(partition_cost[num-1])\n",
    "\n",
    "\n",
    "pprint(recipe)\n",
    "print(f\"-----------------\")\n",
    "print(time)\n",
    "print(f\"-----------------\")\n",
    "print(before_time)\n",
    "print(f\"-----------------\")\n",
    "print(partition_time)\n",
    "print(minutes)\n",
    "\n",
    "# a_string = \"docs.python.org\"\n",
    "# partitioned_string = a_string. partition('. ')\n",
    "# print(partitioned_string)\n",
    "# before_first_period = partitioned_string[0]\n",
    "# print(before_first_period)\n"
   ]
  },
  {
   "cell_type": "code",
   "execution_count": 52,
   "id": "0f69bbd9",
   "metadata": {},
   "outputs": [
    {
     "name": "stdout",
     "output_type": "stream",
     "text": [
      "{'recipes': [{'aggregateLikes': 419,\n",
      "              'analyzedInstructions': [],\n",
      "              'cheap': False,\n",
      "              'creditsText': 'Full Belly Sisters',\n",
      "              'cuisines': ['Mexican'],\n",
      "              'dairyFree': True,\n",
      "              'diets': ['gluten free', 'dairy free'],\n",
      "              'dishTypes': ['lunch', 'main course', 'main dish', 'dinner'],\n",
      "              'extendedIngredients': [{'aisle': 'Milk, Eggs, Other Dairy',\n",
      "                                       'amount': 1.0,\n",
      "                                       'consistency': 'solid',\n",
      "                                       'id': 1123,\n",
      "                                       'image': 'egg.png',\n",
      "                                       'measures': {'metric': {'amount': 1.0,\n",
      "                                                               'unitLong': '',\n",
      "                                                               'unitShort': ''},\n",
      "                                                    'us': {'amount': 1.0,\n",
      "                                                           'unitLong': '',\n",
      "                                                           'unitShort': ''}},\n",
      "                                       'meta': ['beaten'],\n",
      "                                       'name': 'egg',\n",
      "                                       'nameClean': 'egg',\n",
      "                                       'original': '1 egg, beaten',\n",
      "                                       'originalName': 'egg, beaten',\n",
      "                                       'unit': ''},\n",
      "                                      {'aisle': 'Produce',\n",
      "                                       'amount': 3.0,\n",
      "                                       'consistency': 'solid',\n",
      "                                       'id': 11215,\n",
      "                                       'image': 'garlic.png',\n",
      "                                       'measures': {'metric': {'amount': 3.0,\n",
      "                                                               'unitLong': 'cloves',\n",
      "                                                               'unitShort': 'cloves'},\n",
      "                                                    'us': {'amount': 3.0,\n",
      "                                                           'unitLong': 'cloves',\n",
      "                                                           'unitShort': 'cloves'}},\n",
      "                                       'meta': ['grated'],\n",
      "                                       'name': 'garlic',\n",
      "                                       'nameClean': 'garlic',\n",
      "                                       'original': '3 cloves garlic, grated',\n",
      "                                       'originalName': 'garlic, grated',\n",
      "                                       'unit': 'cloves'},\n",
      "                                      {'aisle': 'Meat',\n",
      "                                       'amount': 1.25,\n",
      "                                       'consistency': 'solid',\n",
      "                                       'id': 10023572,\n",
      "                                       'image': 'fresh-ground-beef.jpg',\n",
      "                                       'measures': {'metric': {'amount': 566.99,\n",
      "                                                               'unitLong': 'grams',\n",
      "                                                               'unitShort': 'g'},\n",
      "                                                    'us': {'amount': 1.25,\n",
      "                                                           'unitLong': 'pounds',\n",
      "                                                           'unitShort': 'lb'}},\n",
      "                                       'meta': [],\n",
      "                                       'name': 'ground beef',\n",
      "                                       'nameClean': 'ground chuck',\n",
      "                                       'original': '1 1/4 pound ground beef',\n",
      "                                       'originalName': 'ground beef',\n",
      "                                       'unit': 'pound'},\n",
      "                                      {'aisle': 'Produce',\n",
      "                                       'amount': 1.0,\n",
      "                                       'consistency': 'solid',\n",
      "                                       'id': 1009159,\n",
      "                                       'image': 'zest-lime.jpg',\n",
      "                                       'measures': {'metric': {'amount': 1.0,\n",
      "                                                               'unitLong': '',\n",
      "                                                               'unitShort': ''},\n",
      "                                                    'us': {'amount': 1.0,\n",
      "                                                           'unitLong': '',\n",
      "                                                           'unitShort': ''}},\n",
      "                                       'meta': [],\n",
      "                                       'name': 'lime zest',\n",
      "                                       'nameClean': 'lime peel',\n",
      "                                       'original': 'zest of 1 lime',\n",
      "                                       'originalName': 'zest of lime',\n",
      "                                       'unit': ''},\n",
      "                                      {'aisle': 'Pasta and Rice;Ethnic Foods',\n",
      "                                       'amount': 24.0,\n",
      "                                       'consistency': 'solid',\n",
      "                                       'id': 1006164,\n",
      "                                       'image': 'salsa.jpg',\n",
      "                                       'measures': {'metric': {'amount': 680.389,\n",
      "                                                               'unitLong': 'grams',\n",
      "                                                               'unitShort': 'g'},\n",
      "                                                    'us': {'amount': 24.0,\n",
      "                                                           'unitLong': 'ounces',\n",
      "                                                           'unitShort': 'oz'}},\n",
      "                                       'meta': ['pace®'],\n",
      "                                       'name': 'picante sauce',\n",
      "                                       'nameClean': 'picante sauce',\n",
      "                                       'original': '24-ounce jar of Pace® '\n",
      "                                                   'Medium Picante Sauce',\n",
      "                                       'originalName': 'Pace® Medium Picante '\n",
      "                                                       'Sauce',\n",
      "                                       'unit': 'ounce'},\n",
      "                                      {'aisle': 'Spices and Seasonings',\n",
      "                                       'amount': 4.0,\n",
      "                                       'consistency': 'solid',\n",
      "                                       'id': 2047,\n",
      "                                       'image': 'salt.jpg',\n",
      "                                       'measures': {'metric': {'amount': 4.0,\n",
      "                                                               'unitLong': 'servings',\n",
      "                                                               'unitShort': 'servings'},\n",
      "                                                    'us': {'amount': 4.0,\n",
      "                                                           'unitLong': 'servings',\n",
      "                                                           'unitShort': 'servings'}},\n",
      "                                       'meta': [],\n",
      "                                       'name': 'salt',\n",
      "                                       'nameClean': 'salt',\n",
      "                                       'original': 'salt',\n",
      "                                       'originalName': 'salt',\n",
      "                                       'unit': 'servings'},\n",
      "                                      {'aisle': 'Savory Snacks',\n",
      "                                       'amount': 0.3333333333333333,\n",
      "                                       'consistency': 'solid',\n",
      "                                       'id': 10019056,\n",
      "                                       'image': 'tortilla-chips.jpg',\n",
      "                                       'measures': {'metric': {'amount': 78.863,\n",
      "                                                               'unitLong': 'milliliters',\n",
      "                                                               'unitShort': 'ml'},\n",
      "                                                    'us': {'amount': 0.333,\n",
      "                                                           'unitLong': 'cups',\n",
      "                                                           'unitShort': 'cups'}},\n",
      "                                       'meta': [],\n",
      "                                       'name': 'tortilla chip scoops',\n",
      "                                       'nameClean': 'scoops tortilla chips',\n",
      "                                       'original': '1/3 cup tortilla chip '\n",
      "                                                   'crumbs',\n",
      "                                       'originalName': 'tortilla chip crumbs',\n",
      "                                       'unit': 'cup'},\n",
      "                                      {'aisle': 'Bakery/Bread;Pasta and '\n",
      "                                                'Rice;Ethnic Foods',\n",
      "                                       'amount': 4.0,\n",
      "                                       'consistency': 'solid',\n",
      "                                       'id': 18364,\n",
      "                                       'image': 'flour-tortilla.jpg',\n",
      "                                       'measures': {'metric': {'amount': 4.0,\n",
      "                                                               'unitLong': 'servings',\n",
      "                                                               'unitShort': 'servings'},\n",
      "                                                    'us': {'amount': 4.0,\n",
      "                                                           'unitLong': 'servings',\n",
      "                                                           'unitShort': 'servings'}},\n",
      "                                       'meta': [],\n",
      "                                       'name': 'tortillas',\n",
      "                                       'nameClean': 'tortilla',\n",
      "                                       'original': 'tortillas',\n",
      "                                       'originalName': 'tortillas',\n",
      "                                       'unit': 'servings'}],\n",
      "              'gaps': 'no',\n",
      "              'glutenFree': True,\n",
      "              'healthScore': 14.0,\n",
      "              'id': 782624,\n",
      "              'image': 'https://spoonacular.com/recipeImages/782624-556x370.png',\n",
      "              'imageType': 'png',\n",
      "              'instructions': '',\n",
      "              'license': 'CC BY-SA 3.0',\n",
      "              'lowFodmap': False,\n",
      "              'occasions': [],\n",
      "              'originalId': None,\n",
      "              'pricePerServing': 380.2,\n",
      "              'readyInMinutes': 45,\n",
      "              'servings': 4,\n",
      "              'sourceName': 'Full Belly Sisters',\n",
      "              'sourceUrl': 'http://fullbellysisters.blogspot.com/2016/01/CrockpotGarlicLimeSalsaMeatballTacos.html',\n",
      "              'spoonacularScore': 76.0,\n",
      "              'spoonacularSourceUrl': 'https://spoonacular.com/crockpot-garlic-lime-salsa-meatball-tacos-782624',\n",
      "              'summary': 'Crockpot Garlic Lime Salsa Meatball Tacos might be '\n",
      "                         'just the main course you are searching for. This '\n",
      "                         'recipe makes 4 servings with <b>535 calories</b>, '\n",
      "                         '<b>31g of protein</b>, and <b>32g of fat</b> each. '\n",
      "                         'For <b>$3.8 per serving</b>, this recipe <b>covers '\n",
      "                         '24%</b> of your daily requirements of vitamins and '\n",
      "                         'minerals. 419 people were impressed by this recipe. '\n",
      "                         'If you have salt, tortillas, ground beef, and a few '\n",
      "                         'other ingredients on hand, you can make it. To use '\n",
      "                         'up the salt you could follow this main course with '\n",
      "                         'the <a '\n",
      "                         'href=\"https://spoonacular.com/recipes/apple-turnovers-recipe-48175\">Apple '\n",
      "                         'Turnovers Recipe</a> as a dessert. It is a good '\n",
      "                         \"option if you're following a <b>gluten free and \"\n",
      "                         'dairy free</b> diet. From preparation to the plate, '\n",
      "                         'this recipe takes around <b>45 minutes</b>. This '\n",
      "                         'recipe is typical of Mexican cuisine. All things '\n",
      "                         'considered, we decided this recipe <b>deserves a '\n",
      "                         'spoonacular score of 77%</b>. This score is solid. '\n",
      "                         'Similar recipes include <a '\n",
      "                         'href=\"https://spoonacular.com/recipes/crockpot-salsa-chicken-tacos-704039\">Crockpot '\n",
      "                         'Salsa Chicken Tacos</a>, <a '\n",
      "                         'href=\"https://spoonacular.com/recipes/salsa-verde-chicken-tacos-in-the-crockpot-583631\">Salsa '\n",
      "                         'Verde Chicken Tacos in the Crockpot</a>, and <a '\n",
      "                         'href=\"https://spoonacular.com/recipes/gluten-free-crockpot-tequlia-lime-beef-tacos-479856\">Gluten '\n",
      "                         'Free Crockpot Tequlia Lime Beef Tacos</a>.',\n",
      "              'sustainable': False,\n",
      "              'title': 'Crockpot Garlic Lime Salsa Meatball Tacos',\n",
      "              'vegan': False,\n",
      "              'vegetarian': False,\n",
      "              'veryHealthy': False,\n",
      "              'veryPopular': True,\n",
      "              'weightWatcherSmartPoints': 17}]}\n"
     ]
    }
   ],
   "source": [
    "pprint(spoon_json)"
   ]
  },
  {
   "cell_type": "code",
   "execution_count": 55,
   "id": "9d79e6ac",
   "metadata": {},
   "outputs": [
    {
     "name": "stdout",
     "output_type": "stream",
     "text": [
      "14.0\n"
     ]
    }
   ],
   "source": [
    "health = spoon_json[\"recipes\"][0][\"healthScore\"]\n",
    "print(health)"
   ]
  },
  {
   "cell_type": "code",
   "execution_count": 57,
   "id": "41ce48b8",
   "metadata": {},
   "outputs": [
    {
     "name": "stdout",
     "output_type": "stream",
     "text": [
      "True\n"
     ]
    }
   ],
   "source": [
    "gluten_free = spoon_json[\"recipes\"][0][\"glutenFree\"]\n",
    "print(gluten_free)"
   ]
  },
  {
   "cell_type": "code",
   "execution_count": 58,
   "id": "bcbcc329",
   "metadata": {},
   "outputs": [
    {
     "name": "stdout",
     "output_type": "stream",
     "text": [
      "False\n"
     ]
    }
   ],
   "source": [
    "vegetarian = spoon_json[\"recipes\"][0][\"vegetarian\"]\n",
    "print(vegetarian)"
   ]
  },
  {
   "cell_type": "code",
   "execution_count": 62,
   "id": "43eceb76",
   "metadata": {},
   "outputs": [
    {
     "name": "stdout",
     "output_type": "stream",
     "text": [
      "['Mexican']\n"
     ]
    }
   ],
   "source": [
    "cuisine = spoon_json[\"recipes\"][0][\"cuisines\"]\n",
    "print(cuisine)"
   ]
  },
  {
   "cell_type": "code",
   "execution_count": 63,
   "id": "6566ba27",
   "metadata": {},
   "outputs": [
    {
     "name": "stdout",
     "output_type": "stream",
     "text": [
      "True\n"
     ]
    }
   ],
   "source": [
    "dairy_free = spoon_json[\"recipes\"][0][\"dairyFree\"]\n",
    "print(dairy_free)"
   ]
  },
  {
   "cell_type": "code",
   "execution_count": null,
   "id": "91f61f8b",
   "metadata": {},
   "outputs": [],
   "source": []
  }
 ],
 "metadata": {
  "kernelspec": {
   "display_name": "PythonData",
   "language": "python",
   "name": "pythondata"
  },
  "language_info": {
   "codemirror_mode": {
    "name": "ipython",
    "version": 3
   },
   "file_extension": ".py",
   "mimetype": "text/x-python",
   "name": "python",
   "nbconvert_exporter": "python",
   "pygments_lexer": "ipython3",
   "version": "3.6.10"
  }
 },
 "nbformat": 4,
 "nbformat_minor": 5
}
